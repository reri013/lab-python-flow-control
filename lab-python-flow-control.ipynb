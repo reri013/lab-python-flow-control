{
 "cells": [
  {
   "cell_type": "markdown",
   "id": "d3bfc191-8885-42ee-b0a0-bbab867c6f9f",
   "metadata": {
    "tags": []
   },
   "source": [
    "# Lab | Flow Control"
   ]
  },
  {
   "cell_type": "markdown",
   "id": "3851fcd1-cf98-4653-9c89-e003b7ec9400",
   "metadata": {},
   "source": [
    "## Exercise: Managing Customer Orders Optimized\n",
    "\n",
    "In the last lab, you were starting an online store that sells various products. To ensure smooth operations, you developed a program that manages customer orders and inventory.\n",
    "\n",
    "You did so without using flow control. Let's go a step further and improve this code.\n",
    "\n",
    "Follow the steps below to complete the exercise:\n",
    "\n",
    "1. Look at your code from the lab data structures, and improve repeated code with loops.\n",
    "\n",
    "2. Instead of asking the user to input the name of three products that a customer wants to order, do the following:\n",
    "    \n",
    "    a. Prompt the user to enter the name of a product that a customer wants to order.\n",
    "    \n",
    "    b. Add the product name to the \"customer_orders\" set.\n",
    "    \n",
    "    c. Ask the user if they want to add another product (yes/no).\n",
    "    \n",
    "    d. Continue the loop until the user does not want to add another product.\n",
    "\n",
    "3. Instead of updating the inventory by subtracting 1 from the quantity of each product, only do it for  the products that were ordered (those in \"customer_orders\")."
   ]
  },
  {
   "cell_type": "code",
   "execution_count": 6,
   "id": "59f22b81",
   "metadata": {},
   "outputs": [
    {
     "name": "stdout",
     "output_type": "stream",
     "text": [
      "{'t-shirt': 2, 'mug': 2, 'hat': 2, 'book': 2, 'keychain': 2}\n",
      "{'chocolat', 'mug', 'hat'}\n",
      "3\n",
      "Order Statistics: \n",
      "Total Products ordered:  3\n",
      "Percentage of Products Ordered:  60.0\n",
      "uptdated inventory\n",
      "quantity of  t-shirt is:  2\n",
      "quantity of  mug is:  1\n",
      "quantity of  hat is:  1\n",
      "quantity of  book is:  2\n",
      "quantity of  keychain is:  2\n"
     ]
    }
   ],
   "source": [
    "# FIRST LAB2\n",
    "\n",
    "# 1 Define a list called products that contains the following items: \"t-shirt\", \"mug\", \"hat\", \"book\", \"keychain\".\n",
    "products = [\"t-shirt\", \"mug\", \"hat\", \"book\", \"keychain\"]\n",
    "\n",
    "\n",
    "#2 Create an empty dictionary called inventory.\n",
    "inventory = {}\n",
    "\n",
    "\n",
    "#3 Ask the user to input the quantity of each product available in the inventory. Use the product names from the products list as keys in the inventory dictionary and assign the respective quantities as values.\n",
    "\n",
    "for element in products: \n",
    "    quantity  = int (input (f\"add number of {element} \" ))\n",
    "    inventory [element] = quantity\n",
    "print (inventory)\n",
    "\n",
    "\n",
    "#4 Create an empty set called customer_orders.\n",
    "\n",
    "customer_orders = set()\n",
    "\n",
    "#5   Instead of asking the user to input the name of three products that a customer wants to order, do the following:\n",
    "\n",
    "#a. Prompt the user to enter the name of a product that a customer wants to order.\n",
    "\n",
    "#b. Add the product name to the \"customer_orders\" set.\n",
    "\n",
    "#c. Ask the user if they want to add another product (yes/no).\n",
    "\n",
    "#d. Continue the loop until the user does not want to add another product.\n",
    "\n",
    "add_another = input(\"Do you want to add another product? (yes/no): \")\n",
    "while  add_another == \"yes\" : \n",
    "    product = input(\"enter the name of the product: \")\n",
    "    customer_orders.add(product)\n",
    "    add_another = input(\"Do you want to add another product? (yes/no): \")\n",
    "\n",
    "\n",
    "print (customer_orders )\n",
    "\n",
    "\n",
    "#7 Calculate the following order statistics: \n",
    "#Total Products Ordered\n",
    "\n",
    "total_ordered= len(customer_orders)\n",
    "print (total_ordered)\n",
    "\n",
    "#Total Products Ordered\n",
    "percentage_product = (total_ordered / len(products)) * 100 \n",
    "\n",
    "order_status = (total_ordered, percentage_product )\n",
    "\n",
    "\n",
    "#8 Print the order statistics using the following format:\n",
    "print (\"Order Statistics: \")\n",
    "print (\"Total Products ordered: \", total_ordered)\n",
    "print (\"Percentage of Products Ordered: \" , percentage_product)\n",
    "\n",
    "#9 Update the inventory by subtracting 1 from the quantity of each product. Modify the inventory dictionary accordingly.\n",
    "\n",
    "for product  in customer_orders :\n",
    "    if product in inventory :\n",
    "        inventory [ product] -=1\n",
    "        \n",
    "    \n",
    "    \n",
    "#10 Print the updated inventory, displaying the quantity of each product on separate lines.\n",
    "\n",
    "print(\"uptdated inventory\")\n",
    "    \n",
    "for product, quantity in inventory.items():\n",
    "    print (\"quantity of \", product, \"is: \" , quantity)\n"
   ]
  }
 ],
 "metadata": {
  "kernelspec": {
   "display_name": "Python 3 (ipykernel)",
   "language": "python",
   "name": "python3"
  },
  "language_info": {
   "codemirror_mode": {
    "name": "ipython",
    "version": 3
   },
   "file_extension": ".py",
   "mimetype": "text/x-python",
   "name": "python",
   "nbconvert_exporter": "python",
   "pygments_lexer": "ipython3",
   "version": "3.12.1"
  }
 },
 "nbformat": 4,
 "nbformat_minor": 5
}
